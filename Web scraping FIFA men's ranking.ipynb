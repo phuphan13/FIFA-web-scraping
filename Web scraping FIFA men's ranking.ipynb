{
 "cells": [
  {
   "cell_type": "code",
   "execution_count": 1,
   "id": "2964403c",
   "metadata": {},
   "outputs": [],
   "source": [
    "#Importing libraries\n",
    "from selenium import webdriver\n",
    "from selenium.common.exceptions import NoSuchElementException\n",
    "from selenium.webdriver.common.by import By\n",
    "import pandas as pd\n",
    "import numpy as np\n",
    "import time\n",
    "import requests\n",
    "import json"
   ]
  },
  {
   "cell_type": "code",
   "execution_count": 2,
   "id": "a0ca732c",
   "metadata": {},
   "outputs": [
    {
     "name": "stderr",
     "output_type": "stream",
     "text": [
      "C:\\Users\\LENOVO\\AppData\\Local\\Temp/ipykernel_16788/967933640.py:5: DeprecationWarning: executable_path has been deprecated, please pass in a Service object\n",
      "  driver = webdriver.Chrome(executable_path='venv/chromedriver')\n"
     ]
    }
   ],
   "source": [
    "#Scrap the number of ranking periods \n",
    "#Inititalize the webdriver for Chrome browser\n",
    "#look up the ranking periods in json format in the <script> tag with ID __NET_DATA__\n",
    "\n",
    "driver = webdriver.Chrome(executable_path='venv/chromedriver')\n",
    "driver.get('https://www.fifa.com/fifa-world-ranking/ranking-table/men/')\n",
    "data = json.loads(driver.find_element(By.ID,'__NEXT_DATA__').get_attribute('innerHTML'))\n",
    "dates = data['props']['pageProps']['pageData']['ranking']['dates']\n"
   ]
  },
  {
   "cell_type": "code",
   "execution_count": 3,
   "id": "293c434d",
   "metadata": {},
   "outputs": [],
   "source": [
    "#create a dataframe\n",
    "\n",
    "df = pd.DataFrame(columns=['Date','Rank','Image','Team','Total Points','Previous Points','Increase/Decrease'])"
   ]
  },
  {
   "cell_type": "code",
   "execution_count": 4,
   "id": "61c01eaa",
   "metadata": {},
   "outputs": [],
   "source": [
    "#iterate for each ranking period get the updated url\n",
    "#refresh the webpage with updated url\n",
    "#iterate all the paginated pages in the current url\n",
    "#iterate all team information in one page\n",
    "#get all team information from a team and create a dataset\n",
    "\n",
    "for i in range(0, len(dates)):\n",
    "   \n",
    "    url = 'https://www.fifa.com/fifa-world-ranking/men?dateId='+dates[i]['id']  \n",
    "    driver.switch_to.window(driver.window_handles[0])\n",
    "    driver.get(url)\n",
    "    next_page = 2\n",
    "    \n",
    "    while True:\n",
    "        \n",
    "        teams = driver.find_elements(By.CSS_SELECTOR,'tr.row_rankingTableFullRow__Y_A4i ')\n",
    "        \n",
    "        for team in teams:\n",
    "          \n",
    "            facts = team.find_elements(By.TAG_NAME,'td')\n",
    "       \n",
    "            dict_data ={'Date': dates[i]['text'],\n",
    "                        'Rank': facts[0].text,\n",
    "                        'Image': facts[1].find_element(By.TAG_NAME,'img').get_attribute('src'),\n",
    "                        'Team':facts[2].text,\n",
    "                        'Total Points':facts[3].text,\n",
    "                        'Previous Points':facts[4].text,\n",
    "                        'Increase/Decrease':facts[5].text}\n",
    "            \n",
    "            df = pd.concat([df, pd.DataFrame([dict_data])], ignore_index = True)\n",
    "            \n",
    "        try:\n",
    "        \n",
    "            next_paginated_page = driver.find_element(By.XPATH,\"/html/body/div[1]/div/div[3]/main/section[2]/div/div/div[2]/div/div/div/div/div[2]/div[\"+str(next_page)+\"]\")\n",
    "            driver.execute_script(\"arguments[0].click();\" ,next_paginated_page)\n",
    "            next_page = next_page + 1\n",
    "        \n",
    "        except NoSuchElementException: \n",
    "        \n",
    "            break\n",
    "    \n",
    "    time.sleep(0.2)\n",
    "    \n",
    "\n",
    "#close the webdriver and save result to csv\n",
    "driver.close()\n",
    "driver.quit()\n",
    "df.to_csv('fifa.csv')    "
   ]
  },
  {
   "cell_type": "code",
   "execution_count": null,
   "id": "098d0230",
   "metadata": {},
   "outputs": [],
   "source": []
  }
 ],
 "metadata": {
  "kernelspec": {
   "display_name": "Python 3 (ipykernel)",
   "language": "python",
   "name": "python3"
  },
  "language_info": {
   "codemirror_mode": {
    "name": "ipython",
    "version": 3
   },
   "file_extension": ".py",
   "mimetype": "text/x-python",
   "name": "python",
   "nbconvert_exporter": "python",
   "pygments_lexer": "ipython3",
   "version": "3.9.6"
  }
 },
 "nbformat": 4,
 "nbformat_minor": 5
}
